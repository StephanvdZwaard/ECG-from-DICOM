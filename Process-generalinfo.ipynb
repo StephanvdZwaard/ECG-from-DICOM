{
 "cells": [
  {
   "cell_type": "code",
   "execution_count": 33,
   "id": "3337e3be-1001-4422-bda1-32cf6e7a7a88",
   "metadata": {},
   "outputs": [],
   "source": [
    "import os;\n",
    "import shutil;\n",
    "import sys;\n",
    "import numpy as np;\n",
    "import pandas as pd;\n",
    "from datetime import datetime\n"
   ]
  },
  {
   "cell_type": "code",
   "execution_count": 105,
   "id": "f3ab9a91-f075-4c2a-8d4e-29bf77ff4c7c",
   "metadata": {},
   "outputs": [
    {
     "name": "stdout",
     "output_type": "stream",
     "text": [
      "['E:/DataExchange/Hartcentrum/ECG-archive/20240625_DICOM_ECG_GENERALINFO_001000_002000.csv', 'E:/DataExchange/Hartcentrum/ECG-archive/20240625_DICOM_ECG_GENERALINFO_002000_003000.csv', 'E:/DataExchange/Hartcentrum/ECG-archive/20240625_DICOM_ECG_GENERALINFO_003000_004000.csv', 'E:/DataExchange/Hartcentrum/ECG-archive/20240625_DICOM_ECG_GENERALINFO_005000_005000.csv']\n"
     ]
    }
   ],
   "source": [
    "path_to_dicom  = \"E:/DataExchange/Hartcentrum/ECG-archive/\" #base_path+\"Python/ECG/dicom/\"\n",
    "\n",
    "ECG_files = list() \n",
    "for path,subdirs,files in os.walk(path_to_dicom):\n",
    "    for filename in files:\n",
    "        if 'GENERALINFO' in filename and path == path_to_dicom:\n",
    "            ECG_files.append(path+filename)\n",
    "\n",
    "print(ECG_files[1:5])"
   ]
  },
  {
   "cell_type": "code",
   "execution_count": 107,
   "id": "774dad56-d44d-4986-8f00-3051d1822f8e",
   "metadata": {},
   "outputs": [],
   "source": [
    "# Adjust colname to RECORD_ID_ECG and studytime to time format\n",
    "for f in range(0,len(ECG_files)):\n",
    "    data = pd.read_csv(ECG_files[f])\n",
    "    data = data.rename(columns={'SOPinstanceUID':'RECORD_ID_ECG'})\n",
    "    data[\"StudyTime\"] = pd.Series(data[\"StudyTime\"], dtype=\"string\")\n",
    "    for i in range(0,len(data)):\n",
    "        data.loc[i,\"StudyTime\"] = datetime.strptime(str(data.StudyTime[i]).zfill(6), \"%H%M%S\").strftime('%H:%M:%S') \n",
    "    data.to_csv(ECG_files[f], index=False)\n"
   ]
  },
  {
   "cell_type": "code",
   "execution_count": null,
   "id": "7dd4f73c-fa05-42e5-aa2a-3ede4aaebff3",
   "metadata": {},
   "outputs": [],
   "source": []
  }
 ],
 "metadata": {
  "kernelspec": {
   "display_name": "Python 3 (ipykernel)",
   "language": "python",
   "name": "python3"
  },
  "language_info": {
   "codemirror_mode": {
    "name": "ipython",
    "version": 3
   },
   "file_extension": ".py",
   "mimetype": "text/x-python",
   "name": "python",
   "nbconvert_exporter": "python",
   "pygments_lexer": "ipython3",
   "version": "3.9.19"
  }
 },
 "nbformat": 4,
 "nbformat_minor": 5
}
