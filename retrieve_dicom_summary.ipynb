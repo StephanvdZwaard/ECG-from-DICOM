{
 "cells": [
  {
   "cell_type": "markdown",
   "id": "1a7a9bca-ef6a-4c52-a115-cf9ef6beae56",
   "metadata": {},
   "source": [
    "# Retrieve ECG summaries from DICOM"
   ]
  },
  {
   "cell_type": "markdown",
   "id": "02782e22-b6a4-4c8c-a294-3f28f89e672b",
   "metadata": {},
   "source": [
    "### Requirements"
   ]
  },
  {
   "cell_type": "code",
   "execution_count": null,
   "id": "bfa952ac-a94c-4fcc-a03f-ffd82f875617",
   "metadata": {},
   "outputs": [],
   "source": [
    "# Import required libraries\n",
    "import os;\n",
    "import numpy as np;\n",
    "import pandas as pd;\n",
    "from pydicom import dcmread\n",
    "from pydicom.waveforms import multiplex_array\n",
    "\n",
    "#Set options\n",
    "np.set_printoptions(threshold = 500)"
   ]
  },
  {
   "cell_type": "markdown",
   "id": "a11cf6f4-c3f3-4eb0-873e-3f7cba556e6e",
   "metadata": {},
   "source": [
    "### Function for retrieving summary annotations from ECG"
   ]
  },
  {
   "cell_type": "code",
   "execution_count": null,
   "id": "346c0038-592f-4e33-a474-75627e7897c3",
   "metadata": {},
   "outputs": [],
   "source": [
    "# Add code for obtaining summary sequence annotations within ECG DICOM\n",
    "\n",
    "# To be added to constants used by ECGProcess\n",
    "SUMMARY = {'Summary'  : 'WaveformAnnotationSequence',\n",
    "          }\n",
    "\n",
    "# To be added to ECGProcess\n",
    "def retrieve_summary_dict(dicom):\n",
    "\n",
    "    #### The summary dictionary\n",
    "    summary_dict = {}\n",
    "    for t, s in SUMMARY.items():\n",
    "        # if present in SUMMARY assign\n",
    "        if hasattr(dicom, s) and s == 'WaveformAnnotationSequence':\n",
    "            seq = getattr(dicom,s)\n",
    "            # Extract summary data by looping over annotation sequence\n",
    "            for i in range(0,len(seq)):\n",
    "                if hasattr(seq[i], 'UnformattedTextValue'):\n",
    "                    summary_dict['Summary_L'+str(i)] = seq[i].UnformattedTextValue\n",
    "                elif hasattr(seq[i],'ConceptNameCodeSequence') and hasattr(seq[i],'NumericValue'): \n",
    "                    if hasattr(getattr(seq[i],'ConceptNameCodeSequence')[0],'CodeMeaning'): \n",
    "                        summary_dict[seq[i].ConceptNameCodeSequence[0].CodeMeaning] = seq[i].NumericValue\n",
    "        elif hasattr(dicom, s):\n",
    "            summary_dict[t] = getattr(dicom, s)  \n",
    "        elif not hasattr(dicom, s) and s == 'WaveformAnnotationSequence':\n",
    "            summary_dict[t] = 'No summary annotations present' \n",
    "        else:\n",
    "            raise ValueError('`{0}` is not available.'.format(s))\n",
    "            \n",
    "    return(summary_dict)\n"
   ]
  },
  {
   "cell_type": "markdown",
   "id": "c0b54db1-6642-4523-9210-a8c937257079",
   "metadata": {},
   "source": [
    "### Running an example"
   ]
  },
  {
   "cell_type": "code",
   "execution_count": null,
   "id": "98fb1759-c7e2-4aa7-a99e-815211bea007",
   "metadata": {},
   "outputs": [],
   "source": [
    "# Example summary extraction from ECG in DICOM\n",
    "\n",
    "# Define dicom path\n",
    "path_to_dicom = \"E:/DataExchange/Hartcentrum/ECG_input/processed/temp/\"\n",
    "\n",
    "# Obtain ECG files in folder\n",
    "ECG_files = list() \n",
    "for path, subdirs, files in os.walk(path_to_dicom):\n",
    "    for filename in files:\n",
    "            ECG_files.append(path+'/'+filename) \n",
    "\n",
    "# Obtain ECG summaries from multiple ECG files\n",
    "for ECG_file in ECG_files[0:10]:\n",
    "    # Read ECG from DICOM\n",
    "    dicom_record = dcmread(ECG_file)\n",
    "    \n",
    "    # Obtain summary annotations ECG from DICOM\n",
    "    summary = retrieve_summary_dict(dicom_record)\n",
    "    print(pd.DataFrame(summary, index=[0]))\n",
    "\n",
    "# run function to retrieve dictionary with summary specifications (after inclusion in ECGProces)  \n",
    "    # dicom_file_path = list_data_paths()['example_dicom']\n",
    "    # dicom_record    = ECG_DCM(path=dicom_file_path) \n",
    "    # dicom_record.summary"
   ]
  },
  {
   "cell_type": "code",
   "execution_count": null,
   "id": "d01b4930-7a78-4d98-8fdd-cc12e2483d16",
   "metadata": {},
   "outputs": [],
   "source": []
  }
 ],
 "metadata": {
  "kernelspec": {
   "display_name": "Python 3 (ipykernel)",
   "language": "python",
   "name": "python3"
  },
  "language_info": {
   "codemirror_mode": {
    "name": "ipython",
    "version": 3
   },
   "file_extension": ".py",
   "mimetype": "text/x-python",
   "name": "python",
   "nbconvert_exporter": "python",
   "pygments_lexer": "ipython3",
   "version": "3.9.19"
  }
 },
 "nbformat": 4,
 "nbformat_minor": 5
}
