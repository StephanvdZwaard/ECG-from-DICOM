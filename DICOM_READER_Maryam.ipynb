{
 "cells": [
  {
   "cell_type": "code",
   "execution_count": null,
   "id": "82e3927b",
   "metadata": {},
   "outputs": [],
   "source": [
    "import os\n",
    "from datetime import datetime\n",
    "import numpy as np\n",
    "import pandas as pd\n",
    "from scipy import signal\n",
    "import matplotlib.pyplot as plt\n",
    "%matplotlib inline"
   ]
  },
  {
   "cell_type": "code",
   "execution_count": null,
   "id": "1ec3531e",
   "metadata": {},
   "outputs": [],
   "source": [
    "from pydicom import dcmread\n",
    "from pydicom.waveforms import multiplex_array"
   ]
  },
  {
   "cell_type": "code",
   "execution_count": null,
   "id": "6a191a86",
   "metadata": {},
   "outputs": [],
   "source": [
    "class ECGDICOMReader:\n",
    "    \"\"\" Extract voltage data from a ECG DICOM file\n",
    "        Author: Philip Croon, p.croon@amsterdamumc.nl\n",
    "        for questions feel free to email.    \n",
    "    \"\"\"\n",
    "\n",
    "    def __init__(self, augmentLeads=False, resample_500=True):\n",
    "        \"\"\" \n",
    "        Initialize class. If resample_500 is True ECGs with sampling frequency that are not 500 will be resampled to 500. \n",
    "        If AugmentLeads = True and the augmented leads are not available, they are calculated. \n",
    "        \"\"\"\n",
    "        self.augmentLeads = augmentLeads\n",
    "        self.resample_500 = resample_500\n",
    "        print(\"Initialization succesfull\")\n",
    "\n",
    "    def __call__(self, path):\n",
    "        try:\n",
    "            with open(path, 'rb') as DICOM:\n",
    "                self.ECG = dcmread(DICOM)\n",
    "            self.PatientID = self.ECG.PatientID\n",
    "            self.PatientBirthDate = self.ECG.PatientBirthDate\n",
    "            self.PatientName = self.ECG.PatientName\n",
    "            self.PatientSex = self.ECG.PatientSex\n",
    "            self.StudyDate = self.ECG.StudyDate\n",
    "            self.StudyTime = self.ECG.StudyTime\n",
    "            self.Waveforms = self.ECG.waveform_array(0).T\n",
    "            self.lead_info_final = self.lead_info()\n",
    "            self.LeadVoltages = self.makeleadvoltages()\n",
    "            self.sf = self.ECG.WaveformSequence[0].SamplingFrequency\n",
    "            self.samplingfrequency = self.resampling_500hz()\n",
    "            self.read_dict_final = self.readable_dict()\n",
    "            \n",
    "            return self.read_dict_final\n",
    "\n",
    "        except Exception as e:\n",
    "            print(str(e))\n",
    "            pass\n",
    "\n",
    "    def readable_dict(self):\n",
    "        \"\"\"Make a readable dict\"\"\"\n",
    "        read_dict = {}\n",
    "        read_dict[\"PatientID\"] = self.PatientID\n",
    "        read_dict[\"PatientBirthDate\"] = self.PatientBirthDate\n",
    "        # read_dict[\"PatientName\"] = str(self.PatientName)\n",
    "        read_dict[\"PatientSex\"] = self.PatientSex\n",
    "        read_dict[\"StudyDate\"] = datetime.strptime(self.StudyDate, \"%Y%m%d\").strftime('%Y-%m-%d') \n",
    "                #if your date is different format adapt\n",
    "        read_dict[\"StudyTime\"] = self.StudyTime\n",
    "        read_dict[\"Sampling frequency\"] = self.samplingfrequency\n",
    "        read_dict[\"Sample shape\"] = len(list(self.LeadVoltages.values())[0])\n",
    "        read_dict[\"Waveforms\"] = self.LeadVoltages\n",
    "        return read_dict\n",
    "\n",
    "    def makeleadvoltages(self):\n",
    "        \"\"\"Extracts the voltages out of the DICOM\"\"\"\n",
    "        num_leads = 0\n",
    "        leads = {}\n",
    "\n",
    "        for i, lead in enumerate(self.Waveforms):\n",
    "            num_leads += 1\n",
    "            leads[self.lead_info_final[i]] = lead\n",
    "\n",
    "        if num_leads == 8 and self.augmentLeads:\n",
    "            leads['III'] = np.subtract(leads['II'], leads['I'])\n",
    "            leads['aVR'] = np.add(leads['I'], leads['II']) * (-0.5)\n",
    "            leads['aVL'] = np.subtract(leads['I'], 0.5 * leads['II'])\n",
    "            leads['aVF'] = np.subtract(leads['II'], 0.5 * leads['I'])\n",
    "        return leads\n",
    "\n",
    "    def lead_info(self):\n",
    "        \"\"\"returns the names of the channels from the DICOM\"\"\"\n",
    "        leadnames = {}\n",
    "        for ii, channel in enumerate(self.ECG.WaveformSequence[0].ChannelDefinitionSequence):\n",
    "            source = channel.ChannelSourceSequence[0].CodeMeaning\n",
    "            units = \"unitless\"\n",
    "            if \"ChannelSensitivity\" in channel:\n",
    "                units = channel.ChannelSourceSequence[0].CodeMeaning\n",
    "            leadnames[ii] = source\n",
    "        return leadnames\n",
    "\n",
    "    def resampling_500hz(self):\n",
    "        \"\"\"In case sf is 250, make 500\"\"\"\n",
    "        if self.resample_500 is False:\n",
    "            return int(self.sf)\n",
    "        else:\n",
    "            if int(self.sf) != 500:\n",
    "                for i in self.LeadVoltages:\n",
    "                    self.LeadVoltages[f\"{i}\"] = signal.resample(self.LeadVoltages[f\"{i}\"], 5000)\n",
    "                    self.oversampled = \"Yes\"\n",
    "                self.sf = 500\n",
    "                return self.sf\n",
    "            else:\n",
    "                return self.sf\n",
    "        return self"
   ]
  },
  {
   "cell_type": "code",
   "execution_count": null,
   "id": "b733566e",
   "metadata": {},
   "outputs": [],
   "source": [
    "ecgreader = ECGDICOMReader()"
   ]
  },
  {
   "cell_type": "code",
   "execution_count": null,
   "id": "85859287",
   "metadata": {},
   "outputs": [],
   "source": [
    "dicom = ecgreader(path_to_dicom)"
   ]
  },
  {
   "cell_type": "code",
   "execution_count": null,
   "id": "0d0832fd",
   "metadata": {},
   "outputs": [],
   "source": [
    "dicom"
   ]
  },
  {
   "cell_type": "code",
   "execution_count": null,
   "id": "0b014b36",
   "metadata": {},
   "outputs": [],
   "source": [
    "plt.plot(dicom[\"Waveforms\"][\"I\"])"
   ]
  },
  {
   "cell_type": "code",
   "execution_count": null,
   "id": "0d1d35a9",
   "metadata": {},
   "outputs": [],
   "source": []
  }
 ],
 "metadata": {
  "kernelspec": {
   "display_name": "Python 3 (ipykernel)",
   "language": "python",
   "name": "python3"
  },
  "language_info": {
   "codemirror_mode": {
    "name": "ipython",
    "version": 3
   },
   "file_extension": ".py",
   "mimetype": "text/x-python",
   "name": "python",
   "nbconvert_exporter": "python",
   "pygments_lexer": "ipython3",
   "version": "3.9.11"
  }
 },
 "nbformat": 4,
 "nbformat_minor": 5
}
